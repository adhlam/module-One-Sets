{
  "nbformat": 4,
  "nbformat_minor": 0,
  "metadata": {
    "colab": {
      "provenance": []
    },
    "kernelspec": {
      "name": "python3",
      "display_name": "Python 3"
    },
    "language_info": {
      "name": "python"
    }
  },
  "cells": [
    {
      "cell_type": "markdown",
      "source": [
        "**Project Part #1 : CPSMA 3133 Professor Dr. Jacob's Discrete Mathematics**\n",
        "\n",
        "Sets\n",
        "\n",
        "Adhish Lama 278689"
      ],
      "metadata": {
        "id": "t14PWBYTQ06Z"
      }
    },
    {
      "cell_type": "markdown",
      "source": [
        "**Sets**"
      ],
      "metadata": {
        "id": "WgHdN_ClS692"
      }
    },
    {
      "cell_type": "markdown",
      "source": [
        "Let us consider the set of prime number less than 20, the set of factors of 20 and set of even numbers less than 13 be three sets."
      ],
      "metadata": {
        "id": "n_MGZRT4a2Ob"
      }
    },
    {
      "cell_type": "code",
      "source": [
        "Prime_numberlessthan20 = {'2','3','5','7','11','13','17','19'}\n",
        "Factorsof20 = {'1','2','4','5','10','20'}\n",
        "Even_numberlessthan13 = {'2','4','6','8','10','12'}"
      ],
      "metadata": {
        "id": "adwE1pnBb6ap"
      },
      "execution_count": 106,
      "outputs": []
    },
    {
      "cell_type": "markdown",
      "source": [
        "Clearly there will be a lot of universal sets for the above defined sets. However lets take a set of whole number less than 21 be the universal set of the above defined sets."
      ],
      "metadata": {
        "id": "loePqiPsdJt1"
      }
    },
    {
      "cell_type": "markdown",
      "source": [
        "Let us compute the union of two sets by using pythonic structure."
      ],
      "metadata": {
        "id": "PevBtvkxeNzu"
      }
    },
    {
      "cell_type": "code",
      "source": [
        "Prime_numberlessthan20.union(Factorsof20)"
      ],
      "metadata": {
        "colab": {
          "base_uri": "https://localhost:8080/"
        },
        "id": "U7lfCqWbgQsL",
        "outputId": "32ffd1a1-9354-471b-efba-461a10eef7d5"
      },
      "execution_count": 107,
      "outputs": [
        {
          "output_type": "execute_result",
          "data": {
            "text/plain": [
              "{'1', '10', '11', '13', '17', '19', '2', '20', '3', '4', '5', '7'}"
            ]
          },
          "metadata": {},
          "execution_count": 107
        }
      ]
    },
    {
      "cell_type": "code",
      "source": [
        "Prime_numberlessthan20.union(Even_numberlessthan13)"
      ],
      "metadata": {
        "colab": {
          "base_uri": "https://localhost:8080/"
        },
        "id": "y6fhMcVDhFr7",
        "outputId": "0af85e3c-4d01-4ed3-8805-9a0616c36a32"
      },
      "execution_count": 108,
      "outputs": [
        {
          "output_type": "execute_result",
          "data": {
            "text/plain": [
              "{'10', '11', '12', '13', '17', '19', '2', '3', '4', '5', '6', '7', '8'}"
            ]
          },
          "metadata": {},
          "execution_count": 108
        }
      ]
    },
    {
      "cell_type": "code",
      "source": [
        "Even_numberlessthan13.union(Factorsof20)"
      ],
      "metadata": {
        "colab": {
          "base_uri": "https://localhost:8080/"
        },
        "id": "oeEAjKodhMuH",
        "outputId": "a279ce42-0c0c-434e-b64d-10f2f4201cd4"
      },
      "execution_count": 109,
      "outputs": [
        {
          "output_type": "execute_result",
          "data": {
            "text/plain": [
              "{'1', '10', '12', '2', '20', '4', '5', '6', '8'}"
            ]
          },
          "metadata": {},
          "execution_count": 109
        }
      ]
    },
    {
      "cell_type": "markdown",
      "source": [
        "Now lets find the intersection of the two sets."
      ],
      "metadata": {
        "id": "7k6RtyDIhXbO"
      }
    },
    {
      "cell_type": "code",
      "source": [
        "Prime_numberlessthan20.intersection(Factorsof20)"
      ],
      "metadata": {
        "colab": {
          "base_uri": "https://localhost:8080/"
        },
        "id": "Q06Cgkifhh1c",
        "outputId": "036a216b-520c-49be-913d-b84e15a4115b"
      },
      "execution_count": 110,
      "outputs": [
        {
          "output_type": "execute_result",
          "data": {
            "text/plain": [
              "{'2', '5'}"
            ]
          },
          "metadata": {},
          "execution_count": 110
        }
      ]
    },
    {
      "cell_type": "code",
      "source": [
        "Prime_numberlessthan20.intersection(Even_numberlessthan13)"
      ],
      "metadata": {
        "colab": {
          "base_uri": "https://localhost:8080/"
        },
        "id": "5cO1K0NrhvXZ",
        "outputId": "9d099612-0f56-49fb-9a2e-f835c7c4ed06"
      },
      "execution_count": 111,
      "outputs": [
        {
          "output_type": "execute_result",
          "data": {
            "text/plain": [
              "{'2'}"
            ]
          },
          "metadata": {},
          "execution_count": 111
        }
      ]
    },
    {
      "cell_type": "code",
      "source": [
        "Even_numberlessthan13.intersection(Factorsof20)"
      ],
      "metadata": {
        "colab": {
          "base_uri": "https://localhost:8080/"
        },
        "id": "nsFxrmh7h7-Z",
        "outputId": "7d477e52-4d8e-4df5-c87d-cf72913ad6e1"
      },
      "execution_count": 112,
      "outputs": [
        {
          "output_type": "execute_result",
          "data": {
            "text/plain": [
              "{'10', '2', '4'}"
            ]
          },
          "metadata": {},
          "execution_count": 112
        }
      ]
    },
    {
      "cell_type": "markdown",
      "source": [
        "No, there is no difference in which set is called first because both intersection and union are commutative binary operations."
      ],
      "metadata": {
        "id": "_yraly65ig8q"
      }
    },
    {
      "cell_type": "code",
      "source": [
        "U = {'0','1','2','3','4','5','6','7','8','9','10','11','12','13','14','15','16','17','18','19','20'}\n"
      ],
      "metadata": {
        "id": "o5HMyEL7HC-h"
      },
      "execution_count": null,
      "outputs": []
    },
    {
      "cell_type": "markdown",
      "source": [
        "now lets find the complement of the each set Prime_numberlessthan20, Even_numberlessthan13 and Factorsof20."
      ],
      "metadata": {
        "id": "Mxg_XDNwITCH"
      }
    },
    {
      "cell_type": "code",
      "source": [
        "U - Prime_numberlessthan20"
      ],
      "metadata": {
        "colab": {
          "base_uri": "https://localhost:8080/"
        },
        "id": "yt4wwUYVItzS",
        "outputId": "c235f3d6-4d83-4a33-f23c-90dd8160f8e0"
      },
      "execution_count": 113,
      "outputs": [
        {
          "output_type": "execute_result",
          "data": {
            "text/plain": [
              "{'1', '10', '12', '20', '4', '6', '8'}"
            ]
          },
          "metadata": {},
          "execution_count": 113
        }
      ]
    },
    {
      "cell_type": "code",
      "source": [
        "U - Factorsof20"
      ],
      "metadata": {
        "colab": {
          "base_uri": "https://localhost:8080/"
        },
        "id": "h_XCVhegI4vb",
        "outputId": "b14bfa51-5ade-48b1-b4a3-057a94cd5b0e"
      },
      "execution_count": 114,
      "outputs": [
        {
          "output_type": "execute_result",
          "data": {
            "text/plain": [
              "{'11', '12', '13', '17', '19', '3', '6', '7', '8'}"
            ]
          },
          "metadata": {},
          "execution_count": 114
        }
      ]
    },
    {
      "cell_type": "code",
      "source": [
        "U - Even_numberlessthan13"
      ],
      "metadata": {
        "colab": {
          "base_uri": "https://localhost:8080/"
        },
        "id": "vKu3DQSGI8Pw",
        "outputId": "2584a765-09a1-4aef-c5a2-52b9fdbfaea1"
      },
      "execution_count": 115,
      "outputs": [
        {
          "output_type": "execute_result",
          "data": {
            "text/plain": [
              "{'1', '11', '13', '17', '19', '20', '3', '5', '7'}"
            ]
          },
          "metadata": {},
          "execution_count": 115
        }
      ]
    },
    {
      "cell_type": "markdown",
      "source": [
        "Testing of De'Morgans Law \n",
        "\n",
        "i.e.\n",
        "\n",
        "complement of (Prime_numberlessthan20 union Factorsof20) = complement of Prime_numberlessthan20 intersection complement of Factorsof20\n",
        "\n"
      ],
      "metadata": {
        "id": "MwNp-XG3JmYQ"
      }
    },
    {
      "cell_type": "code",
      "source": [
        "U - (Prime_numberlessthan20.union(Factorsof20))"
      ],
      "metadata": {
        "colab": {
          "base_uri": "https://localhost:8080/"
        },
        "id": "d4_5LiBYJPi6",
        "outputId": "3230d34a-9326-468c-c698-52f973dff6d6"
      },
      "execution_count": 116,
      "outputs": [
        {
          "output_type": "execute_result",
          "data": {
            "text/plain": [
              "{'12', '6', '8'}"
            ]
          },
          "metadata": {},
          "execution_count": 116
        }
      ]
    },
    {
      "cell_type": "code",
      "source": [
        "(U - Prime_numberlessthan20).intersection(U-Factorsof20)"
      ],
      "metadata": {
        "colab": {
          "base_uri": "https://localhost:8080/"
        },
        "id": "z_aAhK6IJkSj",
        "outputId": "1e203818-51c7-4c7d-d856-3502db2b3a5b"
      },
      "execution_count": 117,
      "outputs": [
        {
          "output_type": "execute_result",
          "data": {
            "text/plain": [
              "{'12', '6', '8'}"
            ]
          },
          "metadata": {},
          "execution_count": 117
        }
      ]
    },
    {
      "cell_type": "markdown",
      "source": [
        "Hence, De'Morgans Law is verified."
      ],
      "metadata": {
        "id": "jYYOL1YFK0nT"
      }
    },
    {
      "cell_type": "markdown",
      "source": [
        "Obviously, all the sets that are computed above are the subset of the universal set. \n",
        "\n",
        "Checking the subsets\n",
        "\n",
        "Similarly, Prime_numberlessthan20, Factorsof20 and (Prime_numberlessthan20 intersection Factorsof20) are the subset of (Prime_numberlessthan20 union Factorsof20)\n",
        "\n"
      ],
      "metadata": {
        "id": "gqD21g0zMfi6"
      }
    },
    {
      "cell_type": "code",
      "source": [
        "(Prime_numberlessthan20.intersection(Factorsof20)).issubset(Prime_numberlessthan20.union(Factorsof20))"
      ],
      "metadata": {
        "colab": {
          "base_uri": "https://localhost:8080/"
        },
        "id": "OyH67LR1LJ2o",
        "outputId": "3487c248-895c-4eae-ae7f-91b970c3d0b9"
      },
      "execution_count": 118,
      "outputs": [
        {
          "output_type": "execute_result",
          "data": {
            "text/plain": [
              "True"
            ]
          },
          "metadata": {},
          "execution_count": 118
        }
      ]
    },
    {
      "cell_type": "code",
      "source": [
        "(Prime_numberlessthan20).issubset(Prime_numberlessthan20.union(Factorsof20))"
      ],
      "metadata": {
        "colab": {
          "base_uri": "https://localhost:8080/"
        },
        "id": "3hsh3NrFV7rf",
        "outputId": "5738ec1b-6e71-4e23-d07e-e0d806b4c5fc"
      },
      "execution_count": 120,
      "outputs": [
        {
          "output_type": "execute_result",
          "data": {
            "text/plain": [
              "True"
            ]
          },
          "metadata": {},
          "execution_count": 120
        }
      ]
    },
    {
      "cell_type": "code",
      "source": [
        "(Factorsof20).issubset(Prime_numberlessthan20.union(Factorsof20))"
      ],
      "metadata": {
        "colab": {
          "base_uri": "https://localhost:8080/"
        },
        "id": "ViF-x7plWZIc",
        "outputId": "302ac9c7-99d3-4373-d0f7-bcae5c87139c"
      },
      "execution_count": 121,
      "outputs": [
        {
          "output_type": "execute_result",
          "data": {
            "text/plain": [
              "True"
            ]
          },
          "metadata": {},
          "execution_count": 121
        }
      ]
    },
    {
      "cell_type": "markdown",
      "source": [
        "Similarly, Prime_numberlessthan20, Even_numberlessthan13 and (Prime_numberlessthan20 intersection Even_numberlessthan13) are the subset of (Prime_numberlessthan20 union Even_numberlessthan13)"
      ],
      "metadata": {
        "id": "vnKyxkjHWjLh"
      }
    },
    {
      "cell_type": "code",
      "source": [
        "(Prime_numberlessthan20).issubset(Prime_numberlessthan20.union(Even_numberlessthan13))"
      ],
      "metadata": {
        "colab": {
          "base_uri": "https://localhost:8080/"
        },
        "id": "PSC86j3mXhVQ",
        "outputId": "73f54c57-4cf0-4b1a-efb1-ef5d57953d3d"
      },
      "execution_count": 123,
      "outputs": [
        {
          "output_type": "execute_result",
          "data": {
            "text/plain": [
              "True"
            ]
          },
          "metadata": {},
          "execution_count": 123
        }
      ]
    },
    {
      "cell_type": "code",
      "source": [
        "(Even_numberlessthan13).issubset(Prime_numberlessthan20.union(Even_numberlessthan13))"
      ],
      "metadata": {
        "colab": {
          "base_uri": "https://localhost:8080/"
        },
        "id": "rk-z74SwYRoB",
        "outputId": "96d3b05b-7543-457d-cc02-ebbee1dfb7e3"
      },
      "execution_count": 124,
      "outputs": [
        {
          "output_type": "execute_result",
          "data": {
            "text/plain": [
              "True"
            ]
          },
          "metadata": {},
          "execution_count": 124
        }
      ]
    },
    {
      "cell_type": "code",
      "source": [
        "(Prime_numberlessthan20.intersection(Even_numberlessthan13)).issubset(Prime_numberlessthan20.union(Even_numberlessthan13))"
      ],
      "metadata": {
        "colab": {
          "base_uri": "https://localhost:8080/"
        },
        "id": "USlmxbpyYbOi",
        "outputId": "04fd1b36-9a32-472a-c0d8-ee3b769a7e3c"
      },
      "execution_count": 125,
      "outputs": [
        {
          "output_type": "execute_result",
          "data": {
            "text/plain": [
              "True"
            ]
          },
          "metadata": {},
          "execution_count": 125
        }
      ]
    },
    {
      "cell_type": "markdown",
      "source": [
        "Similarly, Factorsof20, Even_numberlessthan13 and (Factorsof20 intersection Even_numberlessthan13) are the subset of (Factorsof20 union Even_numberlessthan13)\n",
        "\n"
      ],
      "metadata": {
        "id": "cXQ1YIr0Yu-I"
      }
    },
    {
      "cell_type": "code",
      "source": [
        "(Factorsof20).issubset(Even_numberlessthan13.union(Factorsof20))"
      ],
      "metadata": {
        "colab": {
          "base_uri": "https://localhost:8080/"
        },
        "id": "Y5tg4jE7ZRrf",
        "outputId": "2347be62-1146-44a7-d6b9-75a263018f2f"
      },
      "execution_count": 127,
      "outputs": [
        {
          "output_type": "execute_result",
          "data": {
            "text/plain": [
              "True"
            ]
          },
          "metadata": {},
          "execution_count": 127
        }
      ]
    },
    {
      "cell_type": "code",
      "source": [
        "(Factorsof20).issubset(Even_numberlessthan13.union(Factorsof20))"
      ],
      "metadata": {
        "colab": {
          "base_uri": "https://localhost:8080/"
        },
        "id": "_ygYPXYtZSR7",
        "outputId": "a0c37cd8-d667-44df-a0ab-f3902a4c8daa"
      },
      "execution_count": 128,
      "outputs": [
        {
          "output_type": "execute_result",
          "data": {
            "text/plain": [
              "True"
            ]
          },
          "metadata": {},
          "execution_count": 128
        }
      ]
    },
    {
      "cell_type": "code",
      "source": [
        "(Even_numberlessthan13.intersection(Factorsof20)).issubset(Even_numberlessthan13.union(Factorsof20))"
      ],
      "metadata": {
        "colab": {
          "base_uri": "https://localhost:8080/"
        },
        "id": "g3W0u-BQZSiC",
        "outputId": "d5780834-abd9-4139-f29a-92f75a04d7d7"
      },
      "execution_count": 130,
      "outputs": [
        {
          "output_type": "execute_result",
          "data": {
            "text/plain": [
              "True"
            ]
          },
          "metadata": {},
          "execution_count": 130
        }
      ]
    },
    {
      "cell_type": "markdown",
      "source": [],
      "metadata": {
        "id": "KZJkJKJYb2hz"
      }
    },
    {
      "cell_type": "code",
      "source": [
        "def DPpowerset(Prime_number):\n",
        "  powerset = [[]]\n",
        "  for i in Prime_number:\n",
        "    for sett in powerset:\n",
        "      powerset = powerset + [sett + [i]]\n",
        "  return powerset"
      ],
      "metadata": {
        "id": "5ZfyULI2eYID"
      },
      "execution_count": 1,
      "outputs": []
    },
    {
      "cell_type": "code",
      "source": [
        "DPpowerset(Prime_numberlessthan20)"
      ],
      "metadata": {
        "colab": {
          "base_uri": "https://localhost:8080/"
        },
        "id": "47oreocrjRdO",
        "outputId": "73cbe1c3-8cde-4f38-eab5-69e84d27dd14"
      },
      "execution_count": 144,
      "outputs": [
        {
          "output_type": "execute_result",
          "data": {
            "text/plain": [
              "[[],\n",
              " ['5'],\n",
              " ['2'],\n",
              " ['5', '2'],\n",
              " ['17'],\n",
              " ['5', '17'],\n",
              " ['2', '17'],\n",
              " ['5', '2', '17'],\n",
              " ['13'],\n",
              " ['5', '13'],\n",
              " ['2', '13'],\n",
              " ['5', '2', '13'],\n",
              " ['17', '13'],\n",
              " ['5', '17', '13'],\n",
              " ['2', '17', '13'],\n",
              " ['5', '2', '17', '13'],\n",
              " ['11'],\n",
              " ['5', '11'],\n",
              " ['2', '11'],\n",
              " ['5', '2', '11'],\n",
              " ['17', '11'],\n",
              " ['5', '17', '11'],\n",
              " ['2', '17', '11'],\n",
              " ['5', '2', '17', '11'],\n",
              " ['13', '11'],\n",
              " ['5', '13', '11'],\n",
              " ['2', '13', '11'],\n",
              " ['5', '2', '13', '11'],\n",
              " ['17', '13', '11'],\n",
              " ['5', '17', '13', '11'],\n",
              " ['2', '17', '13', '11'],\n",
              " ['5', '2', '17', '13', '11'],\n",
              " ['19'],\n",
              " ['5', '19'],\n",
              " ['2', '19'],\n",
              " ['5', '2', '19'],\n",
              " ['17', '19'],\n",
              " ['5', '17', '19'],\n",
              " ['2', '17', '19'],\n",
              " ['5', '2', '17', '19'],\n",
              " ['13', '19'],\n",
              " ['5', '13', '19'],\n",
              " ['2', '13', '19'],\n",
              " ['5', '2', '13', '19'],\n",
              " ['17', '13', '19'],\n",
              " ['5', '17', '13', '19'],\n",
              " ['2', '17', '13', '19'],\n",
              " ['5', '2', '17', '13', '19'],\n",
              " ['11', '19'],\n",
              " ['5', '11', '19'],\n",
              " ['2', '11', '19'],\n",
              " ['5', '2', '11', '19'],\n",
              " ['17', '11', '19'],\n",
              " ['5', '17', '11', '19'],\n",
              " ['2', '17', '11', '19'],\n",
              " ['5', '2', '17', '11', '19'],\n",
              " ['13', '11', '19'],\n",
              " ['5', '13', '11', '19'],\n",
              " ['2', '13', '11', '19'],\n",
              " ['5', '2', '13', '11', '19'],\n",
              " ['17', '13', '11', '19'],\n",
              " ['5', '17', '13', '11', '19'],\n",
              " ['2', '17', '13', '11', '19'],\n",
              " ['5', '2', '17', '13', '11', '19'],\n",
              " ['7'],\n",
              " ['5', '7'],\n",
              " ['2', '7'],\n",
              " ['5', '2', '7'],\n",
              " ['17', '7'],\n",
              " ['5', '17', '7'],\n",
              " ['2', '17', '7'],\n",
              " ['5', '2', '17', '7'],\n",
              " ['13', '7'],\n",
              " ['5', '13', '7'],\n",
              " ['2', '13', '7'],\n",
              " ['5', '2', '13', '7'],\n",
              " ['17', '13', '7'],\n",
              " ['5', '17', '13', '7'],\n",
              " ['2', '17', '13', '7'],\n",
              " ['5', '2', '17', '13', '7'],\n",
              " ['11', '7'],\n",
              " ['5', '11', '7'],\n",
              " ['2', '11', '7'],\n",
              " ['5', '2', '11', '7'],\n",
              " ['17', '11', '7'],\n",
              " ['5', '17', '11', '7'],\n",
              " ['2', '17', '11', '7'],\n",
              " ['5', '2', '17', '11', '7'],\n",
              " ['13', '11', '7'],\n",
              " ['5', '13', '11', '7'],\n",
              " ['2', '13', '11', '7'],\n",
              " ['5', '2', '13', '11', '7'],\n",
              " ['17', '13', '11', '7'],\n",
              " ['5', '17', '13', '11', '7'],\n",
              " ['2', '17', '13', '11', '7'],\n",
              " ['5', '2', '17', '13', '11', '7'],\n",
              " ['19', '7'],\n",
              " ['5', '19', '7'],\n",
              " ['2', '19', '7'],\n",
              " ['5', '2', '19', '7'],\n",
              " ['17', '19', '7'],\n",
              " ['5', '17', '19', '7'],\n",
              " ['2', '17', '19', '7'],\n",
              " ['5', '2', '17', '19', '7'],\n",
              " ['13', '19', '7'],\n",
              " ['5', '13', '19', '7'],\n",
              " ['2', '13', '19', '7'],\n",
              " ['5', '2', '13', '19', '7'],\n",
              " ['17', '13', '19', '7'],\n",
              " ['5', '17', '13', '19', '7'],\n",
              " ['2', '17', '13', '19', '7'],\n",
              " ['5', '2', '17', '13', '19', '7'],\n",
              " ['11', '19', '7'],\n",
              " ['5', '11', '19', '7'],\n",
              " ['2', '11', '19', '7'],\n",
              " ['5', '2', '11', '19', '7'],\n",
              " ['17', '11', '19', '7'],\n",
              " ['5', '17', '11', '19', '7'],\n",
              " ['2', '17', '11', '19', '7'],\n",
              " ['5', '2', '17', '11', '19', '7'],\n",
              " ['13', '11', '19', '7'],\n",
              " ['5', '13', '11', '19', '7'],\n",
              " ['2', '13', '11', '19', '7'],\n",
              " ['5', '2', '13', '11', '19', '7'],\n",
              " ['17', '13', '11', '19', '7'],\n",
              " ['5', '17', '13', '11', '19', '7'],\n",
              " ['2', '17', '13', '11', '19', '7'],\n",
              " ['5', '2', '17', '13', '11', '19', '7'],\n",
              " ['3'],\n",
              " ['5', '3'],\n",
              " ['2', '3'],\n",
              " ['5', '2', '3'],\n",
              " ['17', '3'],\n",
              " ['5', '17', '3'],\n",
              " ['2', '17', '3'],\n",
              " ['5', '2', '17', '3'],\n",
              " ['13', '3'],\n",
              " ['5', '13', '3'],\n",
              " ['2', '13', '3'],\n",
              " ['5', '2', '13', '3'],\n",
              " ['17', '13', '3'],\n",
              " ['5', '17', '13', '3'],\n",
              " ['2', '17', '13', '3'],\n",
              " ['5', '2', '17', '13', '3'],\n",
              " ['11', '3'],\n",
              " ['5', '11', '3'],\n",
              " ['2', '11', '3'],\n",
              " ['5', '2', '11', '3'],\n",
              " ['17', '11', '3'],\n",
              " ['5', '17', '11', '3'],\n",
              " ['2', '17', '11', '3'],\n",
              " ['5', '2', '17', '11', '3'],\n",
              " ['13', '11', '3'],\n",
              " ['5', '13', '11', '3'],\n",
              " ['2', '13', '11', '3'],\n",
              " ['5', '2', '13', '11', '3'],\n",
              " ['17', '13', '11', '3'],\n",
              " ['5', '17', '13', '11', '3'],\n",
              " ['2', '17', '13', '11', '3'],\n",
              " ['5', '2', '17', '13', '11', '3'],\n",
              " ['19', '3'],\n",
              " ['5', '19', '3'],\n",
              " ['2', '19', '3'],\n",
              " ['5', '2', '19', '3'],\n",
              " ['17', '19', '3'],\n",
              " ['5', '17', '19', '3'],\n",
              " ['2', '17', '19', '3'],\n",
              " ['5', '2', '17', '19', '3'],\n",
              " ['13', '19', '3'],\n",
              " ['5', '13', '19', '3'],\n",
              " ['2', '13', '19', '3'],\n",
              " ['5', '2', '13', '19', '3'],\n",
              " ['17', '13', '19', '3'],\n",
              " ['5', '17', '13', '19', '3'],\n",
              " ['2', '17', '13', '19', '3'],\n",
              " ['5', '2', '17', '13', '19', '3'],\n",
              " ['11', '19', '3'],\n",
              " ['5', '11', '19', '3'],\n",
              " ['2', '11', '19', '3'],\n",
              " ['5', '2', '11', '19', '3'],\n",
              " ['17', '11', '19', '3'],\n",
              " ['5', '17', '11', '19', '3'],\n",
              " ['2', '17', '11', '19', '3'],\n",
              " ['5', '2', '17', '11', '19', '3'],\n",
              " ['13', '11', '19', '3'],\n",
              " ['5', '13', '11', '19', '3'],\n",
              " ['2', '13', '11', '19', '3'],\n",
              " ['5', '2', '13', '11', '19', '3'],\n",
              " ['17', '13', '11', '19', '3'],\n",
              " ['5', '17', '13', '11', '19', '3'],\n",
              " ['2', '17', '13', '11', '19', '3'],\n",
              " ['5', '2', '17', '13', '11', '19', '3'],\n",
              " ['7', '3'],\n",
              " ['5', '7', '3'],\n",
              " ['2', '7', '3'],\n",
              " ['5', '2', '7', '3'],\n",
              " ['17', '7', '3'],\n",
              " ['5', '17', '7', '3'],\n",
              " ['2', '17', '7', '3'],\n",
              " ['5', '2', '17', '7', '3'],\n",
              " ['13', '7', '3'],\n",
              " ['5', '13', '7', '3'],\n",
              " ['2', '13', '7', '3'],\n",
              " ['5', '2', '13', '7', '3'],\n",
              " ['17', '13', '7', '3'],\n",
              " ['5', '17', '13', '7', '3'],\n",
              " ['2', '17', '13', '7', '3'],\n",
              " ['5', '2', '17', '13', '7', '3'],\n",
              " ['11', '7', '3'],\n",
              " ['5', '11', '7', '3'],\n",
              " ['2', '11', '7', '3'],\n",
              " ['5', '2', '11', '7', '3'],\n",
              " ['17', '11', '7', '3'],\n",
              " ['5', '17', '11', '7', '3'],\n",
              " ['2', '17', '11', '7', '3'],\n",
              " ['5', '2', '17', '11', '7', '3'],\n",
              " ['13', '11', '7', '3'],\n",
              " ['5', '13', '11', '7', '3'],\n",
              " ['2', '13', '11', '7', '3'],\n",
              " ['5', '2', '13', '11', '7', '3'],\n",
              " ['17', '13', '11', '7', '3'],\n",
              " ['5', '17', '13', '11', '7', '3'],\n",
              " ['2', '17', '13', '11', '7', '3'],\n",
              " ['5', '2', '17', '13', '11', '7', '3'],\n",
              " ['19', '7', '3'],\n",
              " ['5', '19', '7', '3'],\n",
              " ['2', '19', '7', '3'],\n",
              " ['5', '2', '19', '7', '3'],\n",
              " ['17', '19', '7', '3'],\n",
              " ['5', '17', '19', '7', '3'],\n",
              " ['2', '17', '19', '7', '3'],\n",
              " ['5', '2', '17', '19', '7', '3'],\n",
              " ['13', '19', '7', '3'],\n",
              " ['5', '13', '19', '7', '3'],\n",
              " ['2', '13', '19', '7', '3'],\n",
              " ['5', '2', '13', '19', '7', '3'],\n",
              " ['17', '13', '19', '7', '3'],\n",
              " ['5', '17', '13', '19', '7', '3'],\n",
              " ['2', '17', '13', '19', '7', '3'],\n",
              " ['5', '2', '17', '13', '19', '7', '3'],\n",
              " ['11', '19', '7', '3'],\n",
              " ['5', '11', '19', '7', '3'],\n",
              " ['2', '11', '19', '7', '3'],\n",
              " ['5', '2', '11', '19', '7', '3'],\n",
              " ['17', '11', '19', '7', '3'],\n",
              " ['5', '17', '11', '19', '7', '3'],\n",
              " ['2', '17', '11', '19', '7', '3'],\n",
              " ['5', '2', '17', '11', '19', '7', '3'],\n",
              " ['13', '11', '19', '7', '3'],\n",
              " ['5', '13', '11', '19', '7', '3'],\n",
              " ['2', '13', '11', '19', '7', '3'],\n",
              " ['5', '2', '13', '11', '19', '7', '3'],\n",
              " ['17', '13', '11', '19', '7', '3'],\n",
              " ['5', '17', '13', '11', '19', '7', '3'],\n",
              " ['2', '17', '13', '11', '19', '7', '3'],\n",
              " ['5', '2', '17', '13', '11', '19', '7', '3']]"
            ]
          },
          "metadata": {},
          "execution_count": 144
        }
      ]
    },
    {
      "cell_type": "markdown",
      "source": [
        "Numbers of subset the univerasal set can have is 2^21 = 2097152"
      ],
      "metadata": {
        "id": "o14ffmjjDx9w"
      }
    }
  ]
}